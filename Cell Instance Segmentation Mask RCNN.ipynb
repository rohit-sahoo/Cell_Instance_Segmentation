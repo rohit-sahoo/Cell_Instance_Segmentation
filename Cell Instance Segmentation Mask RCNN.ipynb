{
  "cells": [
    {
      "cell_type": "markdown",
      "id": "ece66671",
      "metadata": {
        "papermill": {
          "duration": 0.023798,
          "end_time": "2021-10-28T03:45:40.927779",
          "exception": false,
          "start_time": "2021-10-28T03:45:40.903981",
          "status": "completed"
        },
        "tags": [],
        "id": "ece66671"
      },
      "source": [
        "# Sartorius - Torch - Classifier + Mask R-CNN\n"
      ]
    },
    {
      "cell_type": "markdown",
      "id": "0655088a",
      "metadata": {
        "papermill": {
          "duration": 0.02121,
          "end_time": "2021-10-28T03:45:40.971554",
          "exception": false,
          "start_time": "2021-10-28T03:45:40.950344",
          "status": "completed"
        },
        "tags": [],
        "id": "0655088a"
      },
      "source": [
        "# Imports and constants"
      ]
    },
    {
      "cell_type": "code",
      "execution_count": null,
      "id": "2b310da7",
      "metadata": {
        "_cell_guid": "b1076dfc-b9ad-4769-8c92-a6c4dae69d19",
        "_uuid": "8f2839f25d086af736a60e9eeb907d3b93b6e0e5",
        "execution": {
          "iopub.execute_input": "2021-10-28T03:45:41.020902Z",
          "iopub.status.busy": "2021-10-28T03:45:41.018903Z",
          "iopub.status.idle": "2021-10-28T03:45:45.477770Z",
          "shell.execute_reply": "2021-10-28T03:45:45.477095Z",
          "shell.execute_reply.started": "2021-10-24T23:39:03.845392Z"
        },
        "papermill": {
          "duration": 4.484909,
          "end_time": "2021-10-28T03:45:45.477945",
          "exception": false,
          "start_time": "2021-10-28T03:45:40.993036",
          "status": "completed"
        },
        "tags": [],
        "id": "2b310da7"
      },
      "outputs": [],
      "source": [
        "import os\n",
        "import time\n",
        "import random\n",
        "import collections\n",
        "\n",
        "import numpy as np\n",
        "import pandas as pd\n",
        "from PIL import Image\n",
        "import matplotlib.pyplot as plt\n",
        "\n",
        "import cv2\n",
        "import albumentations as A\n",
        "from albumentations.pytorch import ToTensorV2\n",
        "\n",
        "import torch\n",
        "import torchvision\n",
        "from torchvision.transforms import ToPILImage\n",
        "from torchvision.transforms import functional as F\n",
        "from torch.utils.data import Dataset, DataLoader\n",
        "from torchvision.models.detection.faster_rcnn import FastRCNNPredictor\n",
        "from torchvision.models.detection.mask_rcnn import MaskRCNNPredictor\n",
        "\n",
        "def fix_all_seeds(seed):\n",
        "    np.random.seed(seed)\n",
        "    random.seed(seed)\n",
        "    os.environ['PYTHONHASHSEED'] = str(seed)\n",
        "    torch.manual_seed(seed)\n",
        "    torch.cuda.manual_seed(seed)\n",
        "    torch.cuda.manual_seed_all(seed)\n",
        "\n",
        "# Fix randomness\n",
        "fix_all_seeds(2021)"
      ]
    },
    {
      "cell_type": "code",
      "execution_count": null,
      "id": "10843978",
      "metadata": {
        "execution": {
          "iopub.execute_input": "2021-10-28T03:45:45.581779Z",
          "iopub.status.busy": "2021-10-28T03:45:45.580704Z",
          "iopub.status.idle": "2021-10-28T03:45:45.582871Z",
          "shell.execute_reply": "2021-10-28T03:45:45.583850Z",
          "shell.execute_reply.started": "2021-10-24T23:39:03.857638Z"
        },
        "papermill": {
          "duration": 0.0805,
          "end_time": "2021-10-28T03:45:45.584123",
          "exception": false,
          "start_time": "2021-10-28T03:45:45.503623",
          "status": "completed"
        },
        "tags": [],
        "id": "10843978"
      },
      "outputs": [],
      "source": [
        "TRAIN_CSV = \"../input/sartorius-cell-instance-segmentation/train.csv\"\n",
        "TEST_PATH = \"../input/sartorius-cell-instance-segmentation/test\"\n",
        "\n",
        "CLASSIFIER_CHK = \"../input/sartorius-resnet-34-classifier-finetuned/resnet34-finetuned.bin\"\n",
        "MASK_RCNN_CHK = \"../input/sartorius-starter-torch-mask-r-cnn/pytorch_model.bin\"\n",
        "\n",
        "CELL_TYPES  = {0: 'shsy5y', 1: 'astro', 2: 'cort'}\n",
        "\n",
        "DEVICE = torch.device('cuda') if torch.cuda.is_available() else torch.device('cpu')\n",
        "\n",
        "RESNET_MEAN = (0.485, 0.456, 0.406)\n",
        "RESNET_STD = (0.229, 0.224, 0.225)\n",
        "\n",
        "\n",
        "# The maximum possible amount of predictions\n",
        "# 539 is the 90% percentile of the cell_type with more instances per image\n",
        "BOX_DETECTIONS_PER_IMG = 559"
      ]
    },
    {
      "cell_type": "markdown",
      "id": "603c217a",
      "metadata": {
        "papermill": {
          "duration": 0.021362,
          "end_time": "2021-10-28T03:45:45.628546",
          "exception": false,
          "start_time": "2021-10-28T03:45:45.607184",
          "status": "completed"
        },
        "tags": [],
        "id": "603c217a"
      },
      "source": [
        "# Load dataframe"
      ]
    },
    {
      "cell_type": "code",
      "execution_count": null,
      "id": "393b66d3",
      "metadata": {
        "execution": {
          "iopub.execute_input": "2021-10-28T03:45:45.678125Z",
          "iopub.status.busy": "2021-10-28T03:45:45.677415Z",
          "iopub.status.idle": "2021-10-28T03:45:46.245467Z",
          "shell.execute_reply": "2021-10-28T03:45:46.244471Z",
          "shell.execute_reply.started": "2021-10-24T23:39:03.878874Z"
        },
        "papermill": {
          "duration": 0.595254,
          "end_time": "2021-10-28T03:45:46.245655",
          "exception": false,
          "start_time": "2021-10-28T03:45:45.650401",
          "status": "completed"
        },
        "tags": [],
        "id": "393b66d3"
      },
      "outputs": [],
      "source": [
        "df_train = pd.read_csv(TRAIN_CSV)"
      ]
    },
    {
      "cell_type": "markdown",
      "id": "70c4c43c",
      "metadata": {
        "papermill": {
          "duration": 0.020924,
          "end_time": "2021-10-28T03:45:46.287989",
          "exception": false,
          "start_time": "2021-10-28T03:45:46.267065",
          "status": "completed"
        },
        "tags": [],
        "id": "70c4c43c"
      },
      "source": [
        "# Simple statistics: number of instances per image per `cell_type`\n",
        "\n",
        "We will use the values from this analysis to decide the number of predicted individuals to generate for each image"
      ]
    },
    {
      "cell_type": "code",
      "execution_count": null,
      "id": "5c956381",
      "metadata": {
        "execution": {
          "iopub.execute_input": "2021-10-28T03:45:46.351098Z",
          "iopub.status.busy": "2021-10-28T03:45:46.347555Z",
          "iopub.status.idle": "2021-10-28T03:45:46.421331Z",
          "shell.execute_reply": "2021-10-28T03:45:46.420291Z",
          "shell.execute_reply.started": "2021-10-25T00:17:18.736361Z"
        },
        "papermill": {
          "duration": 0.111909,
          "end_time": "2021-10-28T03:45:46.421572",
          "exception": false,
          "start_time": "2021-10-28T03:45:46.309663",
          "status": "completed"
        },
        "tags": [],
        "id": "5c956381",
        "outputId": "65da4439-17ef-488e-a9e8-39e3ef6d26fe"
      },
      "outputs": [
        {
          "data": {
            "text/html": [
              "<div>\n",
              "<style scoped>\n",
              "    .dataframe tbody tr th:only-of-type {\n",
              "        vertical-align: middle;\n",
              "    }\n",
              "\n",
              "    .dataframe tbody tr th {\n",
              "        vertical-align: top;\n",
              "    }\n",
              "\n",
              "    .dataframe thead th {\n",
              "        text-align: right;\n",
              "    }\n",
              "</style>\n",
              "<table border=\"1\" class=\"dataframe\">\n",
              "  <thead>\n",
              "    <tr style=\"text-align: right;\">\n",
              "      <th></th>\n",
              "      <th>mean</th>\n",
              "      <th>min</th>\n",
              "      <th>10%</th>\n",
              "      <th>25%</th>\n",
              "      <th>75%</th>\n",
              "      <th>80%</th>\n",
              "      <th>85%</th>\n",
              "      <th>90%</th>\n",
              "      <th>95%</th>\n",
              "      <th>99%</th>\n",
              "      <th>max</th>\n",
              "    </tr>\n",
              "    <tr>\n",
              "      <th>cell_type</th>\n",
              "      <th></th>\n",
              "      <th></th>\n",
              "      <th></th>\n",
              "      <th></th>\n",
              "      <th></th>\n",
              "      <th></th>\n",
              "      <th></th>\n",
              "      <th></th>\n",
              "      <th></th>\n",
              "      <th></th>\n",
              "      <th></th>\n",
              "    </tr>\n",
              "  </thead>\n",
              "  <tbody>\n",
              "    <tr>\n",
              "      <th>astro</th>\n",
              "      <td>80</td>\n",
              "      <td>5</td>\n",
              "      <td>28</td>\n",
              "      <td>50</td>\n",
              "      <td>100</td>\n",
              "      <td>105</td>\n",
              "      <td>123</td>\n",
              "      <td>135</td>\n",
              "      <td>150</td>\n",
              "      <td>297</td>\n",
              "      <td>594</td>\n",
              "    </tr>\n",
              "    <tr>\n",
              "      <th>cort</th>\n",
              "      <td>33</td>\n",
              "      <td>4</td>\n",
              "      <td>18</td>\n",
              "      <td>23</td>\n",
              "      <td>39</td>\n",
              "      <td>43</td>\n",
              "      <td>46</td>\n",
              "      <td>54</td>\n",
              "      <td>70</td>\n",
              "      <td>93</td>\n",
              "      <td>108</td>\n",
              "    </tr>\n",
              "    <tr>\n",
              "      <th>shsy5y</th>\n",
              "      <td>337</td>\n",
              "      <td>49</td>\n",
              "      <td>143</td>\n",
              "      <td>235</td>\n",
              "      <td>429</td>\n",
              "      <td>447</td>\n",
              "      <td>508</td>\n",
              "      <td>539</td>\n",
              "      <td>559</td>\n",
              "      <td>739</td>\n",
              "      <td>790</td>\n",
              "    </tr>\n",
              "  </tbody>\n",
              "</table>\n",
              "</div>"
            ],
            "text/plain": [
              "           mean  min  10%  25%  75%  80%  85%  90%  95%  99%  max\n",
              "cell_type                                                        \n",
              "astro        80    5   28   50  100  105  123  135  150  297  594\n",
              "cort         33    4   18   23   39   43   46   54   70   93  108\n",
              "shsy5y      337   49  143  235  429  447  508  539  559  739  790"
            ]
          },
          "execution_count": 4,
          "metadata": {},
          "output_type": "execute_result"
        }
      ],
      "source": [
        "df_instances = df_train.groupby(['id']).agg({'annotation': 'count', 'cell_type': 'first'})\n",
        "df_instances = df_instances.groupby(\"cell_type\")[['annotation']]\\\n",
        "                               .describe(percentiles=[0.1, 0.25, 0.75, 0.8, 0.85, 0.9, 0.95, 0.99]).astype(int)\\\n",
        "                               .T.droplevel(level=0).T.drop(['count', '50%', 'std'], axis=1)\n",
        "df_instances"
      ]
    },
    {
      "cell_type": "code",
      "execution_count": null,
      "id": "f59b9984",
      "metadata": {
        "execution": {
          "iopub.execute_input": "2021-10-28T03:45:46.472825Z",
          "iopub.status.busy": "2021-10-28T03:45:46.471737Z",
          "iopub.status.idle": "2021-10-28T03:45:46.476273Z",
          "shell.execute_reply": "2021-10-28T03:45:46.475714Z",
          "shell.execute_reply.started": "2021-10-24T23:39:04.281272Z"
        },
        "papermill": {
          "duration": 0.031743,
          "end_time": "2021-10-28T03:45:46.476412",
          "exception": false,
          "start_time": "2021-10-28T03:45:46.444669",
          "status": "completed"
        },
        "tags": [],
        "id": "f59b9984",
        "outputId": "3905b671-56d6-4af0-bc5e-a0184ef4bd88"
      },
      "outputs": [
        {
          "data": {
            "text/plain": [
              "{'astro': 135, 'cort': 54, 'shsy5y': 539}"
            ]
          },
          "execution_count": 5,
          "metadata": {},
          "output_type": "execute_result"
        }
      ],
      "source": [
        "# Trying with different strategies\n",
        "df_instances['90%'].to_dict()"
      ]
    },
    {
      "cell_type": "markdown",
      "id": "10b343df",
      "metadata": {
        "papermill": {
          "duration": 0.022525,
          "end_time": "2021-10-28T03:45:46.521873",
          "exception": false,
          "start_time": "2021-10-28T03:45:46.499348",
          "status": "completed"
        },
        "tags": [],
        "id": "10b343df"
      },
      "source": [
        "# Simple statistics: Pixels per mask per `cell_type`\n",
        "\n",
        "We will use the numbers of this table to refine the masks."
      ]
    },
    {
      "cell_type": "code",
      "execution_count": null,
      "id": "dc7bbbf1",
      "metadata": {
        "execution": {
          "iopub.execute_input": "2021-10-28T03:45:46.595299Z",
          "iopub.status.busy": "2021-10-28T03:45:46.585113Z",
          "iopub.status.idle": "2021-10-28T03:45:48.501075Z",
          "shell.execute_reply": "2021-10-28T03:45:48.501729Z",
          "shell.execute_reply.started": "2021-10-24T23:50:40.359664Z"
        },
        "papermill": {
          "duration": 1.95709,
          "end_time": "2021-10-28T03:45:48.501921",
          "exception": false,
          "start_time": "2021-10-28T03:45:46.544831",
          "status": "completed"
        },
        "tags": [],
        "id": "dc7bbbf1",
        "outputId": "f74a6d33-3227-474b-ec30-931a97d0a95f"
      },
      "outputs": [
        {
          "data": {
            "text/html": [
              "<div>\n",
              "<style scoped>\n",
              "    .dataframe tbody tr th:only-of-type {\n",
              "        vertical-align: middle;\n",
              "    }\n",
              "\n",
              "    .dataframe tbody tr th {\n",
              "        vertical-align: top;\n",
              "    }\n",
              "\n",
              "    .dataframe thead th {\n",
              "        text-align: right;\n",
              "    }\n",
              "</style>\n",
              "<table border=\"1\" class=\"dataframe\">\n",
              "  <thead>\n",
              "    <tr style=\"text-align: right;\">\n",
              "      <th></th>\n",
              "      <th>mean</th>\n",
              "      <th>min</th>\n",
              "      <th>2%</th>\n",
              "      <th>5%</th>\n",
              "      <th>10%</th>\n",
              "      <th>90%</th>\n",
              "      <th>95%</th>\n",
              "      <th>98%</th>\n",
              "      <th>max</th>\n",
              "    </tr>\n",
              "    <tr>\n",
              "      <th>cell_type</th>\n",
              "      <th></th>\n",
              "      <th></th>\n",
              "      <th></th>\n",
              "      <th></th>\n",
              "      <th></th>\n",
              "      <th></th>\n",
              "      <th></th>\n",
              "      <th></th>\n",
              "      <th></th>\n",
              "    </tr>\n",
              "  </thead>\n",
              "  <tbody>\n",
              "    <tr>\n",
              "      <th>astro</th>\n",
              "      <td>905</td>\n",
              "      <td>37</td>\n",
              "      <td>136</td>\n",
              "      <td>185</td>\n",
              "      <td>251</td>\n",
              "      <td>1799</td>\n",
              "      <td>2380</td>\n",
              "      <td>3447</td>\n",
              "      <td>13327</td>\n",
              "    </tr>\n",
              "    <tr>\n",
              "      <th>cort</th>\n",
              "      <td>240</td>\n",
              "      <td>33</td>\n",
              "      <td>74</td>\n",
              "      <td>95</td>\n",
              "      <td>114</td>\n",
              "      <td>404</td>\n",
              "      <td>497</td>\n",
              "      <td>624</td>\n",
              "      <td>2054</td>\n",
              "    </tr>\n",
              "    <tr>\n",
              "      <th>shsy5y</th>\n",
              "      <td>224</td>\n",
              "      <td>30</td>\n",
              "      <td>59</td>\n",
              "      <td>77</td>\n",
              "      <td>96</td>\n",
              "      <td>393</td>\n",
              "      <td>478</td>\n",
              "      <td>593</td>\n",
              "      <td>2254</td>\n",
              "    </tr>\n",
              "  </tbody>\n",
              "</table>\n",
              "</div>"
            ],
            "text/plain": [
              "           mean  min   2%   5%  10%   90%   95%   98%    max\n",
              "cell_type                                                   \n",
              "astro       905   37  136  185  251  1799  2380  3447  13327\n",
              "cort        240   33   74   95  114   404   497   624   2054\n",
              "shsy5y      224   30   59   77   96   393   478   593   2254"
            ]
          },
          "execution_count": 6,
          "metadata": {},
          "output_type": "execute_result"
        }
      ],
      "source": [
        "df_train['n_pixels'] = df_train.annotation.apply(lambda x: np.sum([int(e) for e in x.split()[1:][::2]]))\n",
        "df_pixels = df_train.groupby(\"cell_type\")[['n_pixels']].describe(percentiles=[0.02, 0.05, 0.1, 0.9, 0.95, 0.98])\\\n",
        "                    .astype(int).T.droplevel(level=0).T.drop(['count', '50%', 'std'], axis=1)\n",
        "df_pixels"
      ]
    },
    {
      "cell_type": "markdown",
      "id": "e96a72ce",
      "metadata": {
        "papermill": {
          "duration": 0.023793,
          "end_time": "2021-10-28T03:45:48.549356",
          "exception": false,
          "start_time": "2021-10-28T03:45:48.525563",
          "status": "completed"
        },
        "tags": [],
        "id": "e96a72ce"
      },
      "source": [
        "# Models"
      ]
    },
    {
      "cell_type": "markdown",
      "id": "7e18fa73",
      "metadata": {
        "papermill": {
          "duration": 0.023552,
          "end_time": "2021-10-28T03:45:48.596709",
          "exception": false,
          "start_time": "2021-10-28T03:45:48.573157",
          "status": "completed"
        },
        "tags": [],
        "id": "7e18fa73"
      },
      "source": [
        "# Mask R-CNN\n"
      ]
    },
    {
      "cell_type": "code",
      "execution_count": null,
      "id": "a37af659",
      "metadata": {
        "execution": {
          "iopub.execute_input": "2021-10-28T03:45:48.652814Z",
          "iopub.status.busy": "2021-10-28T03:45:48.652186Z",
          "iopub.status.idle": "2021-10-28T03:45:55.809709Z",
          "shell.execute_reply": "2021-10-28T03:45:55.809173Z",
          "shell.execute_reply.started": "2021-10-24T23:39:06.08406Z"
        },
        "papermill": {
          "duration": 7.189573,
          "end_time": "2021-10-28T03:45:55.809886",
          "exception": false,
          "start_time": "2021-10-28T03:45:48.620313",
          "status": "completed"
        },
        "tags": [],
        "id": "a37af659"
      },
      "outputs": [],
      "source": [
        "def get_pretrained_mask_cnn():\n",
        "    # This is just a dummy value for the classification head\n",
        "    NUM_CLASSES = 2\n",
        "\n",
        "    model = torchvision.models.detection.maskrcnn_resnet50_fpn(pretrained=False,\n",
        "                                                               pretrained_backbone=False,\n",
        "                                                               box_detections_per_img=BOX_DETECTIONS_PER_IMG)\n",
        "\n",
        "    in_features = model.roi_heads.box_predictor.cls_score.in_features\n",
        "    model.roi_heads.box_predictor = FastRCNNPredictor(in_features, NUM_CLASSES)\n",
        "    in_features_mask = model.roi_heads.mask_predictor.conv5_mask.in_channels\n",
        "    hidden_layer = 256\n",
        "    model.roi_heads.mask_predictor = MaskRCNNPredictor(in_features_mask, hidden_layer, NUM_CLASSES)\n",
        "    model.load_state_dict(torch.load(MASK_RCNN_CHK, map_location=DEVICE))\n",
        "    model = model.to(DEVICE)\n",
        "    model.eval()\n",
        "    return model\n",
        "\n",
        "model = get_pretrained_mask_cnn()"
      ]
    },
    {
      "cell_type": "markdown",
      "id": "3c53e881",
      "metadata": {
        "papermill": {
          "duration": 0.023943,
          "end_time": "2021-10-28T03:45:55.857389",
          "exception": false,
          "start_time": "2021-10-28T03:45:55.833446",
          "status": "completed"
        },
        "tags": [],
        "id": "3c53e881"
      },
      "source": [
        "# Classifier Resnet34 Classifier"
      ]
    },
    {
      "cell_type": "code",
      "execution_count": null,
      "id": "1a445253",
      "metadata": {
        "execution": {
          "iopub.execute_input": "2021-10-28T03:45:55.909043Z",
          "iopub.status.busy": "2021-10-28T03:45:55.908266Z",
          "iopub.status.idle": "2021-10-28T03:45:56.715578Z",
          "shell.execute_reply": "2021-10-28T03:45:56.714888Z",
          "shell.execute_reply.started": "2021-10-24T23:39:06.809024Z"
        },
        "papermill": {
          "duration": 0.834871,
          "end_time": "2021-10-28T03:45:56.715832",
          "exception": false,
          "start_time": "2021-10-28T03:45:55.880961",
          "status": "completed"
        },
        "tags": [],
        "id": "1a445253"
      },
      "outputs": [],
      "source": [
        "# Load the fine-tuned resnet34 classifier for cell_types\n",
        "classifier = torch.load(CLASSIFIER_CHK, map_location=DEVICE)\n",
        "classifier.to(DEVICE)\n",
        "classifier.eval();"
      ]
    },
    {
      "cell_type": "markdown",
      "id": "8b1e75c1",
      "metadata": {
        "papermill": {
          "duration": 0.021978,
          "end_time": "2021-10-28T03:45:56.762108",
          "exception": false,
          "start_time": "2021-10-28T03:45:56.740130",
          "status": "completed"
        },
        "tags": [],
        "id": "8b1e75c1"
      },
      "source": [
        "# Classifier utility functions"
      ]
    },
    {
      "cell_type": "code",
      "execution_count": null,
      "id": "c9007c46",
      "metadata": {
        "execution": {
          "iopub.execute_input": "2021-10-28T03:45:56.815075Z",
          "iopub.status.busy": "2021-10-28T03:45:56.813959Z",
          "iopub.status.idle": "2021-10-28T03:45:56.816687Z",
          "shell.execute_reply": "2021-10-28T03:45:56.817374Z",
          "shell.execute_reply.started": "2021-10-24T23:39:06.863113Z"
        },
        "papermill": {
          "duration": 0.032804,
          "end_time": "2021-10-28T03:45:56.817571",
          "exception": false,
          "start_time": "2021-10-28T03:45:56.784767",
          "status": "completed"
        },
        "tags": [],
        "id": "c9007c46"
      },
      "outputs": [],
      "source": [
        "# Get the input of the classifier\n",
        "# The process overlaps a bit with the Mask R-CNN preprocessing\n",
        "# But they are different\n",
        "def get_image_for_classifier(image_id):\n",
        "    image_path = os.path.join(TEST_PATH, image_id + '.png')\n",
        "    transforms = A.Compose([A.Resize(224, 224),\n",
        "                       A.Normalize(mean=RESNET_MEAN, std=RESNET_STD, p=1),\n",
        "                       ToTensorV2()])\n",
        "    image = transforms(image=cv2.imread(image_path))['image']\n",
        "    return image.unsqueeze(0).to(DEVICE)\n",
        "\n",
        "# Assess the image_id cell_type with the classifier\n",
        "def get_image_cell_type(classifier, image_id):\n",
        "    img = get_image_for_classifier(image_id)\n",
        "    with torch.no_grad():\n",
        "        logits = classifier(img)[0]\n",
        "        cell_type_idx = torch.argmax(logits).item()\n",
        "    return CELL_TYPES[cell_type_idx]"
      ]
    },
    {
      "cell_type": "markdown",
      "id": "b38a0ce3",
      "metadata": {
        "papermill": {
          "duration": 0.022866,
          "end_time": "2021-10-28T03:45:56.863005",
          "exception": false,
          "start_time": "2021-10-28T03:45:56.840139",
          "status": "completed"
        },
        "tags": [],
        "id": "b38a0ce3"
      },
      "source": [
        "# Test Dataset"
      ]
    },
    {
      "cell_type": "code",
      "execution_count": null,
      "id": "19050028",
      "metadata": {
        "execution": {
          "iopub.execute_input": "2021-10-28T03:45:56.915667Z",
          "iopub.status.busy": "2021-10-28T03:45:56.914876Z",
          "iopub.status.idle": "2021-10-28T03:45:56.924141Z",
          "shell.execute_reply": "2021-10-28T03:45:56.923546Z",
          "shell.execute_reply.started": "2021-10-24T23:39:06.871294Z"
        },
        "papermill": {
          "duration": 0.039579,
          "end_time": "2021-10-28T03:45:56.924286",
          "exception": false,
          "start_time": "2021-10-28T03:45:56.884707",
          "status": "completed"
        },
        "tags": [],
        "id": "19050028"
      },
      "outputs": [],
      "source": [
        "class CellTestDataset(Dataset):\n",
        "    def __init__(self, image_dir):\n",
        "        self.image_dir = image_dir\n",
        "        self.image_ids = [f[:-4]for f in os.listdir(self.image_dir)]\n",
        "\n",
        "    def __getitem__(self, idx):\n",
        "        image_id = self.image_ids[idx]\n",
        "        image_path = os.path.join(self.image_dir, image_id + '.png')\n",
        "        image = Image.open(image_path).convert(\"RGB\")\n",
        "        image = F.to_tensor(image)\n",
        "        return {'image': image, 'image_id': image_id}\n",
        "\n",
        "    def __len__(self):\n",
        "        return len(self.image_ids)\n",
        "\n",
        "ds_test = CellTestDataset(TEST_PATH)"
      ]
    },
    {
      "cell_type": "markdown",
      "id": "56283ea1",
      "metadata": {
        "papermill": {
          "duration": 0.022635,
          "end_time": "2021-10-28T03:45:56.969750",
          "exception": false,
          "start_time": "2021-10-28T03:45:56.947115",
          "status": "completed"
        },
        "tags": [],
        "id": "56283ea1"
      },
      "source": [
        "# Utility functions"
      ]
    },
    {
      "cell_type": "code",
      "execution_count": null,
      "id": "eb10b9ac",
      "metadata": {
        "execution": {
          "iopub.execute_input": "2021-10-28T03:45:57.023635Z",
          "iopub.status.busy": "2021-10-28T03:45:57.022580Z",
          "iopub.status.idle": "2021-10-28T03:45:57.025394Z",
          "shell.execute_reply": "2021-10-28T03:45:57.026070Z",
          "shell.execute_reply.started": "2021-10-24T23:39:06.887948Z"
        },
        "papermill": {
          "duration": 0.034142,
          "end_time": "2021-10-28T03:45:57.026255",
          "exception": false,
          "start_time": "2021-10-28T03:45:56.992113",
          "status": "completed"
        },
        "tags": [],
        "id": "eb10b9ac"
      },
      "outputs": [],
      "source": [
        "def rle_encoding(x):\n",
        "    dots = np.where(x.flatten() == 1)[0]\n",
        "    run_lengths = []\n",
        "    prev = -2\n",
        "    for b in dots:\n",
        "        if (b>prev+1): run_lengths.extend((b + 1, 0))\n",
        "        run_lengths[-1] += 1\n",
        "        prev = b\n",
        "    return ' '.join(map(str, run_lengths))\n",
        "\n",
        "\n",
        "def remove_overlapping_pixels(mask, other_masks):\n",
        "    for other_mask in other_masks:\n",
        "        if np.sum(np.logical_and(mask, other_mask)) > 0:\n",
        "            mask[np.logical_and(mask, other_mask)] = 0\n",
        "    return mask"
      ]
    },
    {
      "cell_type": "markdown",
      "id": "80fb863f",
      "metadata": {
        "papermill": {
          "duration": 0.02236,
          "end_time": "2021-10-28T03:45:57.072172",
          "exception": false,
          "start_time": "2021-10-28T03:45:57.049812",
          "status": "completed"
        },
        "tags": [],
        "id": "80fb863f"
      },
      "source": [
        "# Prediction loop"
      ]
    },
    {
      "cell_type": "code",
      "execution_count": null,
      "id": "2e82de88",
      "metadata": {
        "execution": {
          "iopub.execute_input": "2021-10-28T03:45:57.124806Z",
          "iopub.status.busy": "2021-10-28T03:45:57.123925Z",
          "iopub.status.idle": "2021-10-28T03:45:57.127347Z",
          "shell.execute_reply": "2021-10-28T03:45:57.127984Z",
          "shell.execute_reply.started": "2021-10-24T23:39:06.897863Z"
        },
        "papermill": {
          "duration": 0.033191,
          "end_time": "2021-10-28T03:45:57.128121",
          "exception": false,
          "start_time": "2021-10-28T03:45:57.094930",
          "status": "completed"
        },
        "tags": [],
        "id": "2e82de88",
        "outputId": "4037247b-1527-4723-ed7a-55828f5a3f21"
      },
      "outputs": [
        {
          "data": {
            "text/plain": [
              "18"
            ]
          },
          "execution_count": 12,
          "metadata": {},
          "output_type": "execute_result"
        }
      ],
      "source": [
        "df_instances.loc['cort', '10%']"
      ]
    },
    {
      "cell_type": "markdown",
      "id": "814c190a",
      "metadata": {
        "papermill": {
          "duration": 0.022685,
          "end_time": "2021-10-28T03:45:57.173317",
          "exception": false,
          "start_time": "2021-10-28T03:45:57.150632",
          "status": "completed"
        },
        "tags": [],
        "id": "814c190a"
      },
      "source": [
        "# Mask refinement function\n",
        "\n",
        "The masks provided by Mask R-CNN have a probability in each of the pixels and we turn that into a mask thresholding it.\n",
        "\n",
        "A simple method to do this is to use one fixed number. That is `MASK_THRESHOLD`, which was fixed to `0.5` till now.\n",
        "\n",
        "Here we propose a refined method.\n",
        "\n",
        "The method changes the threshold value in border cases, making sure the number of pixels of the mask is not lower than the `5%` percentile and not higher than the `95%` percentile of the train data for the givel `cell_type`.\n"
      ]
    },
    {
      "cell_type": "code",
      "execution_count": null,
      "id": "83108a5f",
      "metadata": {
        "execution": {
          "iopub.execute_input": "2021-10-28T03:45:57.227334Z",
          "iopub.status.busy": "2021-10-28T03:45:57.226627Z",
          "iopub.status.idle": "2021-10-28T03:45:57.231398Z",
          "shell.execute_reply": "2021-10-28T03:45:57.230775Z",
          "shell.execute_reply.started": "2021-10-25T00:16:28.024689Z"
        },
        "papermill": {
          "duration": 0.035439,
          "end_time": "2021-10-28T03:45:57.231564",
          "exception": false,
          "start_time": "2021-10-28T03:45:57.196125",
          "status": "completed"
        },
        "tags": [],
        "id": "83108a5f"
      },
      "outputs": [],
      "source": [
        "\n",
        "def refine_mask(mask, df_pixels, cell_type):\n",
        "\n",
        "\n",
        "    # Minimum number of pixels:\n",
        "    # The percentile 0.02 of the cell_type in the train set\n",
        "    min_pixels = df_pixels.loc[cell_type, '2%']\n",
        "    # Max number of pixels\n",
        "    # The percentile 0.95 of the cell_type in the train set\n",
        "    max_pixels = df_pixels.loc[cell_type, '98%']\n",
        "\n",
        "    binary_mask = mask > MASK_THRESHOLD\n",
        "\n",
        "    # If the mask is too small, make the condition less strict\n",
        "    # increasing its size until it reaches a minimum number of pixels\n",
        "    if binary_mask.sum() < min_pixels:\n",
        "        for t in range(25):\n",
        "            binary_mask = mask > (MASK_THRESHOLD - t * 0.02)\n",
        "            if binary_mask.sum() > min_pixels:\n",
        "                break\n",
        "\n",
        "    # If the mask is too large, make the condition more strict\n",
        "    # reducing its size until it has less than certain amount of pixels\n",
        "    if binary_mask.sum() > max_pixels:\n",
        "        for t in range(25):\n",
        "            binary_mask = mask > (MASK_THRESHOLD + t * 0.02)\n",
        "            if binary_mask.sum() < max_pixels:\n",
        "                break\n",
        "\n",
        "    return binary_mask\n",
        "\n",
        ""
      ]
    },
    {
      "cell_type": "markdown",
      "id": "d17adfdc",
      "metadata": {
        "papermill": {
          "duration": 0.022868,
          "end_time": "2021-10-28T03:45:57.278205",
          "exception": false,
          "start_time": "2021-10-28T03:45:57.255337",
          "status": "completed"
        },
        "tags": [],
        "id": "d17adfdc"
      },
      "source": [
        "# Prediction"
      ]
    },
    {
      "cell_type": "code",
      "execution_count": null,
      "id": "cd38e4c2",
      "metadata": {
        "execution": {
          "iopub.execute_input": "2021-10-28T03:45:57.331047Z",
          "iopub.status.busy": "2021-10-28T03:45:57.328800Z",
          "iopub.status.idle": "2021-10-28T03:45:57.331758Z",
          "shell.execute_reply": "2021-10-28T03:45:57.332300Z",
          "shell.execute_reply.started": "2021-10-25T00:16:28.841579Z"
        },
        "papermill": {
          "duration": 0.031218,
          "end_time": "2021-10-28T03:45:57.332445",
          "exception": false,
          "start_time": "2021-10-28T03:45:57.301227",
          "status": "completed"
        },
        "tags": [],
        "id": "cd38e4c2"
      },
      "outputs": [],
      "source": [
        "MIN_SCORE = 0.59\n",
        "\n",
        "MASK_THRESHOLD = 0.5"
      ]
    },
    {
      "cell_type": "code",
      "execution_count": null,
      "id": "9d34288e",
      "metadata": {
        "execution": {
          "iopub.execute_input": "2021-10-28T03:45:57.390109Z",
          "iopub.status.busy": "2021-10-28T03:45:57.389429Z",
          "iopub.status.idle": "2021-10-28T03:46:08.179040Z",
          "shell.execute_reply": "2021-10-28T03:46:08.178363Z",
          "shell.execute_reply.started": "2021-10-25T00:16:29.445447Z"
        },
        "papermill": {
          "duration": 10.82378,
          "end_time": "2021-10-28T03:46:08.179187",
          "exception": false,
          "start_time": "2021-10-28T03:45:57.355407",
          "status": "completed"
        },
        "tags": [],
        "id": "9d34288e",
        "outputId": "2eb97d25-c777-4b21-8a8e-fea431afff3f"
      },
      "outputs": [
        {
          "data": {
            "text/html": [
              "<div>\n",
              "<style scoped>\n",
              "    .dataframe tbody tr th:only-of-type {\n",
              "        vertical-align: middle;\n",
              "    }\n",
              "\n",
              "    .dataframe tbody tr th {\n",
              "        vertical-align: top;\n",
              "    }\n",
              "\n",
              "    .dataframe thead th {\n",
              "        text-align: right;\n",
              "    }\n",
              "</style>\n",
              "<table border=\"1\" class=\"dataframe\">\n",
              "  <thead>\n",
              "    <tr style=\"text-align: right;\">\n",
              "      <th></th>\n",
              "      <th>id</th>\n",
              "      <th>predicted</th>\n",
              "    </tr>\n",
              "  </thead>\n",
              "  <tbody>\n",
              "    <tr>\n",
              "      <th>0</th>\n",
              "      <td>7ae19de7bc2a</td>\n",
              "      <td>140004 13 140706 20 141410 21 142114 21 142818...</td>\n",
              "    </tr>\n",
              "    <tr>\n",
              "      <th>1</th>\n",
              "      <td>7ae19de7bc2a</td>\n",
              "      <td>26627 15 27328 19 28030 21 28733 22 29436 23 3...</td>\n",
              "    </tr>\n",
              "    <tr>\n",
              "      <th>2</th>\n",
              "      <td>7ae19de7bc2a</td>\n",
              "      <td>355113 7 355815 9 356518 11 357220 13 357923 1...</td>\n",
              "    </tr>\n",
              "    <tr>\n",
              "      <th>3</th>\n",
              "      <td>7ae19de7bc2a</td>\n",
              "      <td>96418 4 97122 5 97826 6 98530 7 99233 8 99937 ...</td>\n",
              "    </tr>\n",
              "    <tr>\n",
              "      <th>4</th>\n",
              "      <td>7ae19de7bc2a</td>\n",
              "      <td>178918 6 179621 7 180324 9 181027 10 181731 10...</td>\n",
              "    </tr>\n",
              "  </tbody>\n",
              "</table>\n",
              "</div>"
            ],
            "text/plain": [
              "             id                                          predicted\n",
              "0  7ae19de7bc2a  140004 13 140706 20 141410 21 142114 21 142818...\n",
              "1  7ae19de7bc2a  26627 15 27328 19 28030 21 28733 22 29436 23 3...\n",
              "2  7ae19de7bc2a  355113 7 355815 9 356518 11 357220 13 357923 1...\n",
              "3  7ae19de7bc2a  96418 4 97122 5 97826 6 98530 7 99233 8 99937 ...\n",
              "4  7ae19de7bc2a  178918 6 179621 7 180324 9 181027 10 181731 10..."
            ]
          },
          "execution_count": 15,
          "metadata": {},
          "output_type": "execute_result"
        }
      ],
      "source": [
        "submission = []\n",
        "for sample in ds_test:\n",
        "    img = sample['image']\n",
        "    image_id = sample['image_id']\n",
        "\n",
        "    # Get classifier prediction: cell_type\n",
        "    cell_type = get_image_cell_type(classifier, image_id)\n",
        "\n",
        "    # Given the cell_type, determine the numnber of instances to predict\n",
        "    max_preds = df_instances.loc[cell_type, '99%']\n",
        "    # min_preds = df_instances.loc[cell_type, '10%']\n",
        "\n",
        "\n",
        "    # Get Mask R-CNN predictions\n",
        "    with torch.no_grad():\n",
        "        result = model([img.to(DEVICE)])[0]\n",
        "\n",
        "    previous_masks = []\n",
        "    for i, mask in enumerate(result[\"masks\"]):\n",
        "\n",
        "        score = result[\"scores\"][i].cpu().item()\n",
        "\n",
        "        # Predict at most the 90% number of instances per cell type\n",
        "        if i >= max_preds:\n",
        "            break\n",
        "\n",
        "        # Minimum score required for instance to be kept\n",
        "        if score < MIN_SCORE:\n",
        "            break\n",
        "\n",
        "        mask = mask.cpu().numpy()\n",
        "\n",
        "        # See above \"Mask refinement function\"\n",
        "        binary_mask = refine_mask(mask, df_pixels, cell_type)\n",
        "\n",
        "        binary_mask = remove_overlapping_pixels(binary_mask, previous_masks)\n",
        "\n",
        "        previous_masks.append(binary_mask)\n",
        "        rle = rle_encoding(binary_mask)\n",
        "        submission.append((image_id, rle))\n",
        "\n",
        "    # Add empty prediction if no RLE was generated for this image\n",
        "    all_images_ids = [image_id for image_id, rle in submission]\n",
        "    if image_id not in all_images_ids:\n",
        "        submission.append((image_id, \"\"))\n",
        "\n",
        "df_sub = pd.DataFrame(submission, columns=['id', 'predicted'])\n",
        "df_sub.to_csv(\"submission.csv\", index=False)\n",
        "df_sub.head()"
      ]
    }
  ],
  "metadata": {
    "kernelspec": {
      "display_name": "Python 3",
      "language": "python",
      "name": "python3"
    },
    "language_info": {
      "codemirror_mode": {
        "name": "ipython",
        "version": 3
      },
      "file_extension": ".py",
      "mimetype": "text/x-python",
      "name": "python",
      "nbconvert_exporter": "python",
      "pygments_lexer": "ipython3",
      "version": "3.7.10"
    },
    "papermill": {
      "default_parameters": {},
      "duration": 37.603247,
      "end_time": "2021-10-28T03:46:09.663786",
      "environment_variables": {},
      "exception": null,
      "input_path": "__notebook__.ipynb",
      "output_path": "__notebook__.ipynb",
      "parameters": {},
      "start_time": "2021-10-28T03:45:32.060539",
      "version": "2.3.3"
    },
    "colab": {
      "provenance": []
    }
  },
  "nbformat": 4,
  "nbformat_minor": 5
}